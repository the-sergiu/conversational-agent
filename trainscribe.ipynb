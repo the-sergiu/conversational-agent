{
 "cells": [
  {
   "cell_type": "markdown",
   "id": "4bfe99fb-4ce6-40fd-a4bf-ed1b0d00c666",
   "metadata": {},
   "source": [
    "### Transcribe Example"
   ]
  },
  {
   "cell_type": "code",
   "execution_count": 6,
   "id": "56b2dc3e-e585-4c37-b511-0e65390b3afb",
   "metadata": {},
   "outputs": [
    {
     "name": "stderr",
     "output_type": "stream",
     "text": [
      "100%|█████████████████████████████████████| 2.88G/2.88G [00:41<00:00, 73.6MiB/s]\n"
     ]
    }
   ],
   "source": [
    "import whisper\n",
    "\n",
    "model = whisper.load_model(\"large\")"
   ]
  },
  {
   "cell_type": "code",
   "execution_count": 7,
   "id": "edc036a9-fab0-4859-89c3-ab8f5365e101",
   "metadata": {},
   "outputs": [],
   "source": [
    "model = model.to(\"cuda\")"
   ]
  },
  {
   "cell_type": "code",
   "execution_count": 8,
   "id": "8082b722-5dcc-4df3-8a88-6287a6c71514",
   "metadata": {},
   "outputs": [],
   "source": [
    "audio_file = \"audio_files/Gege - interviu.m4a\" "
   ]
  },
  {
   "cell_type": "code",
   "execution_count": 9,
   "id": "0fa6e968-a39c-420f-ab29-ae06e0cf62a7",
   "metadata": {},
   "outputs": [],
   "source": [
    "result = model.transcribe(audio_file, language=\"ro\")\n",
    "# print(result[\"text\"])"
   ]
  },
  {
   "cell_type": "code",
   "execution_count": 10,
   "id": "b6da696b-50da-40da-a98a-3641f89177a5",
   "metadata": {},
   "outputs": [],
   "source": [
    "with open(f\"{audio_file}.txt\", \"w\") as text_file:\n",
    "    text_file.write(result[\"text\"])"
   ]
  },
  {
   "cell_type": "markdown",
   "id": "f725f9dd-6d09-4d5a-93cb-039af7d69958",
   "metadata": {},
   "source": [
    "### Run on all audio files"
   ]
  },
  {
   "cell_type": "code",
   "execution_count": 11,
   "id": "cec544dd-e6f4-4e87-a01b-fb7b8a85bc43",
   "metadata": {},
   "outputs": [],
   "source": [
    "audio_files = [\n",
    "    \"audio_files/Gege - interviu.m4a\",\n",
    "    \"audio_files/Ana B - Interviu.m4a\",\n",
    "    \"audio_files/Rebeca Avram - Interviu.m4a\",\n",
    "    \"audio_files/Valentin Toc - Interviu.m4a\",\n",
    "    \"audio_files/Loredana - Techcelerator.m4a\",\n",
    "    \"audio_files/Interview - Alex - Licenseware.m4a\",\n",
    "]"
   ]
  },
  {
   "cell_type": "code",
   "execution_count": 14,
   "id": "396c6e5e-14e8-4ac5-b6cc-f006bbd4f45c",
   "metadata": {},
   "outputs": [],
   "source": [
    "import os\n",
    "for audio_file in audio_files:\n",
    "    assert os.path.exists(audio_file)"
   ]
  },
  {
   "cell_type": "code",
   "execution_count": 16,
   "id": "1b2755e5-55cf-4709-9687-f16a4ae52a44",
   "metadata": {},
   "outputs": [
    {
     "name": "stderr",
     "output_type": "stream",
     "text": [
      "  0%|                                                                                             | 0/6 [00:00<?, ?it/s]"
     ]
    },
    {
     "name": "stdout",
     "output_type": "stream",
     "text": [
      "Transcribing audio_files/Gege - interviu.m4a...\n"
     ]
    },
    {
     "name": "stderr",
     "output_type": "stream",
     "text": [
      " 17%|██████████████                                                                      | 1/6 [09:03<45:16, 543.31s/it]"
     ]
    },
    {
     "name": "stdout",
     "output_type": "stream",
     "text": [
      "Transcribing audio_files/Ana B - Interviu.m4a...\n"
     ]
    },
    {
     "name": "stderr",
     "output_type": "stream",
     "text": [
      " 33%|████████████████████████████                                                        | 2/6 [16:16<31:54, 478.65s/it]"
     ]
    },
    {
     "name": "stdout",
     "output_type": "stream",
     "text": [
      "Transcribing audio_files/Rebeca Avram - Interviu.m4a...\n"
     ]
    },
    {
     "name": "stderr",
     "output_type": "stream",
     "text": [
      " 50%|██████████████████████████████████████████                                          | 3/6 [27:09<27:54, 558.32s/it]"
     ]
    },
    {
     "name": "stdout",
     "output_type": "stream",
     "text": [
      "Transcribing audio_files/Valentin Toc - Interviu.m4a...\n"
     ]
    },
    {
     "name": "stderr",
     "output_type": "stream",
     "text": [
      " 67%|████████████████████████████████████████████████████████                            | 4/6 [32:35<15:33, 466.66s/it]"
     ]
    },
    {
     "name": "stdout",
     "output_type": "stream",
     "text": [
      "Transcribing audio_files/Loredana - Techcelerator.m4a...\n"
     ]
    },
    {
     "name": "stderr",
     "output_type": "stream",
     "text": [
      " 83%|██████████████████████████████████████████████████████████████████████              | 5/6 [36:44<06:27, 387.82s/it]"
     ]
    },
    {
     "name": "stdout",
     "output_type": "stream",
     "text": [
      "Transcribing audio_files/Interview - Alex - Licenseware.m4a...\n"
     ]
    },
    {
     "name": "stderr",
     "output_type": "stream",
     "text": [
      "100%|████████████████████████████████████████████████████████████████████████████████████| 6/6 [42:06<00:00, 421.10s/it]\n"
     ]
    }
   ],
   "source": [
    "from tqdm import tqdm\n",
    "\n",
    "for audio_file in tqdm(audio_files):\n",
    "    print(f\"Transcribing {audio_file}...\")\n",
    "    result = model.transcribe(audio_file, language=\"ro\")\n",
    "    with open(f\"{audio_file}.txt\", \"w\") as text_file:\n",
    "        text_file.write(result[\"text\"])"
   ]
  },
  {
   "cell_type": "markdown",
   "id": "5962cb62-112c-4dc3-bafe-281b4ae68591",
   "metadata": {},
   "source": [
    "### Take all files, and add new lines after each sentence."
   ]
  },
  {
   "cell_type": "code",
   "execution_count": 19,
   "id": "88234433-7f80-49e7-81bc-ef50b5b9a8e9",
   "metadata": {},
   "outputs": [],
   "source": [
    "import re\n",
    "\n",
    "def split_text_into_sentences(text, max_length=80):\n",
    "    # Split text into sentences using regex\n",
    "    sentences = re.split(r'(?<=[.!?]) +', text)\n",
    "    processed_sentences = []\n",
    "\n",
    "    for sentence in sentences:\n",
    "        if len(sentence) > max_length:\n",
    "            # Split long sentences\n",
    "            words = sentence.split()\n",
    "            current_sentence = ''\n",
    "            for word in words:\n",
    "                if len(current_sentence) + len(word) + 1 > max_length:\n",
    "                    processed_sentences.append(current_sentence)\n",
    "                    current_sentence = word\n",
    "                else:\n",
    "                    if current_sentence:\n",
    "                        current_sentence += ' ' + word\n",
    "                    else:\n",
    "                        current_sentence = word\n",
    "            if current_sentence:\n",
    "                processed_sentences.append(current_sentence)\n",
    "        else:\n",
    "            processed_sentences.append(sentence)\n",
    "    \n",
    "    return processed_sentences\n",
    "\n",
    "def process_file(input_file, output_file, max_length=80):\n",
    "    with open(input_file, 'r') as file:\n",
    "        text = file.read()\n",
    "    \n",
    "    sentences = split_text_into_sentences(text, max_length)\n",
    "    \n",
    "    with open(output_file, 'w') as file:\n",
    "        for sentence in sentences:\n",
    "            file.write(sentence + '\\n')"
   ]
  },
  {
   "cell_type": "code",
   "execution_count": 20,
   "id": "d5267e29-7429-40ca-a6b6-b4223665d09e",
   "metadata": {},
   "outputs": [],
   "source": [
    "for audio_file in audio_files:\n",
    "    # Example usage\n",
    "    input_file = f'{audio_file}.txt'\n",
    "    output_file = f'{audio_file}_processed.txt'\n",
    "    process_file(input_file, output_file)"
   ]
  },
  {
   "cell_type": "code",
   "execution_count": null,
   "id": "691aee9b-0e77-49e9-a5c7-c7075202b521",
   "metadata": {},
   "outputs": [],
   "source": []
  }
 ],
 "metadata": {
  "kernelspec": {
   "display_name": "Python 3 (ipykernel)",
   "language": "python",
   "name": "python3"
  },
  "language_info": {
   "codemirror_mode": {
    "name": "ipython",
    "version": 3
   },
   "file_extension": ".py",
   "mimetype": "text/x-python",
   "name": "python",
   "nbconvert_exporter": "python",
   "pygments_lexer": "ipython3",
   "version": "3.8.10"
  }
 },
 "nbformat": 4,
 "nbformat_minor": 5
}
