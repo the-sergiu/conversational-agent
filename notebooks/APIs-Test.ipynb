{
 "cells": [
  {
   "cell_type": "code",
   "execution_count": 2,
   "id": "79c42991",
   "metadata": {},
   "outputs": [
    {
     "data": {
      "text/plain": [
       "True"
      ]
     },
     "execution_count": 2,
     "metadata": {},
     "output_type": "execute_result"
    }
   ],
   "source": [
    "# !pip install openai python-dotenv\n",
    "# !pip install --upgrade google-api-python-client google-auth-httplib2 google-auth-oauthlib\n",
    "\n",
    "import os\n",
    "from pathlib import Path\n",
    "from openai import OpenAI\n",
    "from dotenv import load_dotenv\n",
    "load_dotenv()"
   ]
  },
  {
   "cell_type": "markdown",
   "id": "60953bad",
   "metadata": {},
   "source": [
    "### Setup Client"
   ]
  },
  {
   "cell_type": "code",
   "execution_count": 3,
   "id": "dd975b90",
   "metadata": {},
   "outputs": [],
   "source": [
    "from openai import OpenAI\n",
    "\n",
    "client = OpenAI(\n",
    "    organization=os.environ.get(\"organization\"),\n",
    "    api_key=os.environ.get(\"OPENAI_API_KEY\"),\n",
    ")"
   ]
  },
  {
   "cell_type": "markdown",
   "id": "8b1a831d",
   "metadata": {},
   "source": [
    "### Example Speech To Text (Whisper API)\n",
    "- TODO: Make it stream"
   ]
  },
  {
   "cell_type": "code",
   "execution_count": 22,
   "id": "59a2f4bc",
   "metadata": {},
   "outputs": [
    {
     "name": "stdout",
     "output_type": "stream",
     "text": [
      "Bună ziua! Aș vrea să fac o programare la dumneavoastră. Mă cam doare moseaua.\n"
     ]
    }
   ],
   "source": [
    "# Entire audio\n",
    "audio_file= open(\"assets/Replica1.m4a\", \"rb\")\n",
    "transcription = client.audio.transcriptions.create(\n",
    "    model=\"whisper-1\", \n",
    "    file=audio_file,\n",
    "    language='ro'\n",
    ")\n",
    "print(transcription.text)"
   ]
  },
  {
   "cell_type": "markdown",
   "id": "74cbf32b",
   "metadata": {},
   "source": [
    "### Example LLM"
   ]
  },
  {
   "cell_type": "code",
   "execution_count": 14,
   "id": "1b05c5fe",
   "metadata": {},
   "outputs": [],
   "source": [
    "# Entire message\n",
    "chat_completion = client.chat.completions.create(\n",
    "    messages=[{\"role\": \"user\", \"content\": \"Say this is a test\",}],\n",
    "    model=\"gpt-3.5-turbo\",\n",
    ")"
   ]
  },
  {
   "cell_type": "code",
   "execution_count": 15,
   "id": "2bd2d087",
   "metadata": {},
   "outputs": [
    {
     "data": {
      "text/plain": [
       "ChatCompletion(id='chatcmpl-95G3JAJZ5SIaxFBJEzX2Hv6E2TOKa', choices=[Choice(finish_reason='stop', index=0, logprobs=None, message=ChatCompletionMessage(content='This is a test.', role='assistant', function_call=None, tool_calls=None))], created=1711040373, model='gpt-3.5-turbo-0125', object='chat.completion', system_fingerprint='fp_fa89f7a861', usage=CompletionUsage(completion_tokens=5, prompt_tokens=12, total_tokens=17))"
      ]
     },
     "execution_count": 15,
     "metadata": {},
     "output_type": "execute_result"
    }
   ],
   "source": [
    "chat_completion"
   ]
  },
  {
   "cell_type": "code",
   "execution_count": 20,
   "id": "9ea26f3e",
   "metadata": {},
   "outputs": [
    {
     "name": "stdout",
     "output_type": "stream",
     "text": [
      "This is a test."
     ]
    }
   ],
   "source": [
    "# Chunked text, streamed, closer to IRL\n",
    "stream = client.chat.completions.create(\n",
    "    model=\"gpt-3.5-turbo\",\n",
    "    messages=[{\"role\": \"user\", \"content\": \"Say this is a test\"}],\n",
    "    stream=True,\n",
    ")\n",
    "for chunk in stream:\n",
    "    print(chunk.choices[0].delta.content or \"\", end=\"\")"
   ]
  },
  {
   "cell_type": "markdown",
   "id": "d0c59a84",
   "metadata": {},
   "source": [
    "### Example TTS"
   ]
  },
  {
   "cell_type": "code",
   "execution_count": 36,
   "id": "58f76f04",
   "metadata": {},
   "outputs": [],
   "source": [
    "# speech_file_path = Path(\"assets\") / \"intro.mp3\"\n",
    "# response = client.audio.speech.create(\n",
    "#     model=\"tts-1-hd\",\n",
    "#     voice=\"alloy\",\n",
    "#     input=\"Bună ziua, ați sunat la Cabinetul X. Eu sunt asistentul dumneavoastră virtual, cu ce vă pot ajuta?\",\n",
    "# )\n",
    "# response.stream_to_file(speech_file_path)"
   ]
  },
  {
   "cell_type": "markdown",
   "id": "79901630",
   "metadata": {},
   "source": [
    "### TODO: Initial Dialogue\n",
    "\n",
    "- How do we create this sort of textual history/context in conversation? Maybe some sort of retrieval?\n",
    "\n",
    "\n",
    "Plan\n",
    "- play initial intro\n",
    "- let the audio play, and feed it to a well prompted LLM\n",
    "- we should construct (written) replies to the chatbot just to see how it works in a conversation\n",
    "- after, we can replace the written replies with actual voice replies\n",
    "- then, if the conversation looks somewhat natural and the calendar appointment has been mocked\n",
    "- we can transition to checking how an agent could actually retrieve that information, and how it could be stored, and whether we would need to use something like langchain to detect a task and perform an action"
   ]
  }
 ],
 "metadata": {
  "kernelspec": {
   "display_name": "Python 3 (ipykernel)",
   "language": "python",
   "name": "python3"
  },
  "language_info": {
   "codemirror_mode": {
    "name": "ipython",
    "version": 3
   },
   "file_extension": ".py",
   "mimetype": "text/x-python",
   "name": "python",
   "nbconvert_exporter": "python",
   "pygments_lexer": "ipython3",
   "version": "3.9.13"
  }
 },
 "nbformat": 4,
 "nbformat_minor": 5
}
