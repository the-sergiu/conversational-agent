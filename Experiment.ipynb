{
 "cells": [
  {
   "cell_type": "code",
   "execution_count": 10,
   "id": "79c42991",
   "metadata": {},
   "outputs": [
    {
     "data": {
      "text/plain": [
       "True"
      ]
     },
     "execution_count": 10,
     "metadata": {},
     "output_type": "execute_result"
    }
   ],
   "source": [
    "# !pip3 install openai python-dotenv\n",
    "import os\n",
    "from pathlib import Path\n",
    "from openai import OpenAI\n",
    "from dotenv import load_dotenv\n",
    "load_dotenv()"
   ]
  },
  {
   "cell_type": "markdown",
   "id": "60953bad",
   "metadata": {},
   "source": [
    "### Setup Client"
   ]
  },
  {
   "cell_type": "code",
   "execution_count": 11,
   "id": "dd975b90",
   "metadata": {},
   "outputs": [],
   "source": [
    "from openai import OpenAI\n",
    "\n",
    "client = OpenAI(\n",
    "    organization='org-FT4xlyvIqg3QOSciNKjbMwYj',\n",
    "    api_key=os.environ.get(\"OPENAI_API_KEY\"),\n",
    ")"
   ]
  },
  {
   "cell_type": "markdown",
   "id": "8b1a831d",
   "metadata": {},
   "source": [
    "### Example Speech To Text (Whisper API)\n",
    "- TODO: Make it stream"
   ]
  },
  {
   "cell_type": "code",
   "execution_count": 3,
   "id": "59a2f4bc",
   "metadata": {},
   "outputs": [
    {
     "name": "stdout",
     "output_type": "stream",
     "text": [
      "Bună ziua! Aș vrea să fac o programare la dumneavoastră. Mă cam doare moseaua.\n",
      "CPU times: user 0 ns, sys: 8.31 ms, total: 8.31 ms\n",
      "Wall time: 882 ms\n"
     ]
    }
   ],
   "source": [
    "%%time\n",
    "# Entire audio\n",
    "\n",
    "audio_file= open(\"assets/Replica1.m4a\", \"rb\")\n",
    "transcription = client.audio.transcriptions.create(\n",
    "    model=\"whisper-1\", \n",
    "    file=audio_file,\n",
    "    language='ro'\n",
    ")\n",
    "print(transcription.text)"
   ]
  },
  {
   "cell_type": "markdown",
   "id": "74cbf32b",
   "metadata": {},
   "source": [
    "### Example LLM"
   ]
  },
  {
   "cell_type": "code",
   "execution_count": 14,
   "id": "1b05c5fe",
   "metadata": {},
   "outputs": [],
   "source": [
    "# Entire message\n",
    "chat_completion = client.chat.completions.create(\n",
    "    messages=[{\"role\": \"user\", \"content\": \"Say this is a test\",}],\n",
    "    model=\"gpt-3.5-turbo\",\n",
    ")"
   ]
  },
  {
   "cell_type": "code",
   "execution_count": 15,
   "id": "2bd2d087",
   "metadata": {},
   "outputs": [
    {
     "data": {
      "text/plain": [
       "ChatCompletion(id='chatcmpl-95G3JAJZ5SIaxFBJEzX2Hv6E2TOKa', choices=[Choice(finish_reason='stop', index=0, logprobs=None, message=ChatCompletionMessage(content='This is a test.', role='assistant', function_call=None, tool_calls=None))], created=1711040373, model='gpt-3.5-turbo-0125', object='chat.completion', system_fingerprint='fp_fa89f7a861', usage=CompletionUsage(completion_tokens=5, prompt_tokens=12, total_tokens=17))"
      ]
     },
     "execution_count": 15,
     "metadata": {},
     "output_type": "execute_result"
    }
   ],
   "source": [
    "chat_completion"
   ]
  },
  {
   "cell_type": "code",
   "execution_count": 3,
   "id": "9ea26f3e",
   "metadata": {},
   "outputs": [
    {
     "name": "stdout",
     "output_type": "stream",
     "text": [
      "This is a test.CPU times: user 13.2 ms, sys: 971 µs, total: 14.2 ms\n",
      "Wall time: 2.08 s\n"
     ]
    }
   ],
   "source": [
    "%%time\n",
    "# Chunked text, streamed, closer to IRL\n",
    "stream = client.chat.completions.create(\n",
    "    model=\"gpt-3.5-turbo\",\n",
    "    messages=[{\"role\": \"user\", \"content\": \"Say this is a test\"}],\n",
    "    stream=True,\n",
    ")\n",
    "for chunk in stream:\n",
    "    print(chunk.choices[0].delta.content or \"\", end=\"\")"
   ]
  },
  {
   "cell_type": "markdown",
   "id": "d0c59a84",
   "metadata": {},
   "source": [
    "### Example TTS"
   ]
  },
  {
   "cell_type": "code",
   "execution_count": 50,
   "id": "b002a30f-53d3-4745-bb97-88faf8dc7dcd",
   "metadata": {},
   "outputs": [
    {
     "name": "stdout",
     "output_type": "stream",
     "text": [
      "CPU times: user 16 µs, sys: 5 µs, total: 21 µs\n",
      "Wall time: 21.7 µs\n"
     ]
    }
   ],
   "source": [
    "%%time\n",
    "response = client.audio.speech.with_streaming_response.create(\n",
    "    model=\"tts-1\",\n",
    "    voice=\"alloy\",\n",
    "    input=\"\"\"I see skies of blue and clouds of white\n",
    "             The bright blessed days, the dark sacred nights\n",
    "             And I think to myself\n",
    "             What a wonderful world\"\"\",\n",
    "    response_format='opus'\n",
    ")"
   ]
  },
  {
   "cell_type": "code",
   "execution_count": 55,
   "id": "a81105f9-3ee7-4e17-ab54-92572ad9db7d",
   "metadata": {},
   "outputs": [
    {
     "data": {
      "text/plain": [
       "['_ResponseContextManager__response',\n",
       " '__class__',\n",
       " '__class_getitem__',\n",
       " '__delattr__',\n",
       " '__dict__',\n",
       " '__dir__',\n",
       " '__doc__',\n",
       " '__enter__',\n",
       " '__eq__',\n",
       " '__exit__',\n",
       " '__format__',\n",
       " '__ge__',\n",
       " '__getattribute__',\n",
       " '__gt__',\n",
       " '__hash__',\n",
       " '__init__',\n",
       " '__init_subclass__',\n",
       " '__le__',\n",
       " '__lt__',\n",
       " '__module__',\n",
       " '__ne__',\n",
       " '__new__',\n",
       " '__orig_bases__',\n",
       " '__parameters__',\n",
       " '__reduce__',\n",
       " '__reduce_ex__',\n",
       " '__repr__',\n",
       " '__setattr__',\n",
       " '__sizeof__',\n",
       " '__slots__',\n",
       " '__str__',\n",
       " '__subclasshook__',\n",
       " '__weakref__',\n",
       " '_is_protocol',\n",
       " '_request_func']"
      ]
     },
     "execution_count": 55,
     "metadata": {},
     "output_type": "execute_result"
    }
   ],
   "source": [
    "dir(response)"
   ]
  },
  {
   "cell_type": "code",
   "execution_count": null,
   "id": "c483eb18-ef15-4bc0-b08a-1ad58a49e88a",
   "metadata": {},
   "outputs": [],
   "source": []
  },
  {
   "cell_type": "code",
   "execution_count": 49,
   "id": "58f76f04",
   "metadata": {},
   "outputs": [
    {
     "name": "stdout",
     "output_type": "stream",
     "text": [
      "CPU times: user 6.01 ms, sys: 0 ns, total: 6.01 ms\n",
      "Wall time: 1.98 s\n"
     ]
    }
   ],
   "source": [
    "%%time\n",
    "\n",
    "response = client.audio.speech.create(\n",
    "    model=\"tts-1\",\n",
    "    voice=\"alloy\",\n",
    "    input=\"Bună ziua, ați sunat la Cabinetul X. Eu sunt asistentul dumneavoastră virtual, cu ce vă pot ajuta?\",\n",
    "    response_format='mp3'\n",
    ")\n"
   ]
  },
  {
   "cell_type": "code",
   "execution_count": 48,
   "id": "ca3ce93f-6633-4a56-bf60-9e4d7eb5b88e",
   "metadata": {},
   "outputs": [
    {
     "name": "stdout",
     "output_type": "stream",
     "text": [
      "429\n",
      "<Response [429]>\n"
     ]
    }
   ],
   "source": [
    "import requests\n",
    "import io\n",
    "\n",
    "url = \"https://api.openai.com/v1/audio/speech\"\n",
    "headers = {\n",
    "    \"Authorization\": f'Bearer {os.environ.get(\"OPENAI_API_KEY\")}', \n",
    "}\n",
    "\n",
    "data = {\n",
    "    \"model\": \"tts-1-hd\",\n",
    "    \"input\": \"Bună ziua, ați sunat la Cabinetul X. Eu sunt asistentul dumneavoastră virtual, cu ce vă pot ajuta?\",\n",
    "    \"voice\": \"alloy\",\n",
    "    \"response_format\": \"mp3\",\n",
    "}\n",
    "\n",
    "with requests.post(url, headers=headers, json=data, stream=True) as response:\n",
    "    if response.status_code == 200:\n",
    "        buffer = io.BytesIO()\n",
    "        for chunk in response.iter_content(chunk_size=4096):\n",
    "            print(chunk)\n",
    "            buffer.write(chunk)\n",
    "    else:\n",
    "        print(response.status_code)\n",
    "        print(response)"
   ]
  },
  {
   "cell_type": "code",
   "execution_count": null,
   "id": "a28cda54-1d11-4280-ac23-1aa282d80293",
   "metadata": {},
   "outputs": [],
   "source": []
  },
  {
   "cell_type": "markdown",
   "id": "6b8fd6ad-09b9-49f4-a45b-f108328a9f87",
   "metadata": {},
   "source": [
    "### Example TTS Streamed"
   ]
  },
  {
   "cell_type": "code",
   "execution_count": 13,
   "id": "ee486583-5fc4-4dc4-87c4-e2342dd234cb",
   "metadata": {},
   "outputs": [
    {
     "data": {
      "text/plain": [
       "True"
      ]
     },
     "execution_count": 13,
     "metadata": {},
     "output_type": "execute_result"
    }
   ],
   "source": [
    "import os\n",
    "from pathlib import Path\n",
    "from openai import OpenAI\n",
    "from dotenv import load_dotenv\n",
    "load_dotenv()"
   ]
  },
  {
   "cell_type": "code",
   "execution_count": 14,
   "id": "dc274198-df0f-4148-bfc5-a79601d88372",
   "metadata": {},
   "outputs": [],
   "source": [
    "import os\n",
    "import requests\n",
    "from time import time\n",
    "import pyaudio"
   ]
  },
  {
   "cell_type": "code",
   "execution_count": 26,
   "id": "6744fd8b-ee8a-4172-a8ef-f18452d473e9",
   "metadata": {},
   "outputs": [
    {
     "ename": "OSError",
     "evalue": "No Default Output Device Available",
     "output_type": "error",
     "traceback": [
      "\u001b[0;31m---------------------------------------------------------------------------\u001b[0m",
      "\u001b[0;31mOSError\u001b[0m                                   Traceback (most recent call last)",
      "Cell \u001b[0;32mIn[26], line 2\u001b[0m\n\u001b[1;32m      1\u001b[0m pa \u001b[38;5;241m=\u001b[39m pyaudio\u001b[38;5;241m.\u001b[39mPyAudio()\n\u001b[0;32m----> 2\u001b[0m \u001b[43mpa\u001b[49m\u001b[38;5;241;43m.\u001b[39;49m\u001b[43mget_default_output_device_info\u001b[49m\u001b[43m(\u001b[49m\u001b[43m)\u001b[49m\n",
      "File \u001b[0;32m/mnt/c/Users/Sergiu/Desktop/conversational-agent/venv/lib/python3.8/site-packages/pyaudio/__init__.py:824\u001b[0m, in \u001b[0;36mPyAudio.get_default_output_device_info\u001b[0;34m(self)\u001b[0m\n\u001b[1;32m    815\u001b[0m \u001b[38;5;28;01mdef\u001b[39;00m \u001b[38;5;21mget_default_output_device_info\u001b[39m(\u001b[38;5;28mself\u001b[39m):\n\u001b[1;32m    816\u001b[0m \u001b[38;5;250m    \u001b[39m\u001b[38;5;124;03m\"\"\"Returns the default output device parameters as a dictionary.\u001b[39;00m\n\u001b[1;32m    817\u001b[0m \n\u001b[1;32m    818\u001b[0m \u001b[38;5;124;03m    The keys of the dictionary mirror the data fields of PortAudio's\u001b[39;00m\n\u001b[0;32m   (...)\u001b[0m\n\u001b[1;32m    822\u001b[0m \u001b[38;5;124;03m    :rtype: dict\u001b[39;00m\n\u001b[1;32m    823\u001b[0m \u001b[38;5;124;03m    \"\"\"\u001b[39;00m\n\u001b[0;32m--> 824\u001b[0m     device_index \u001b[38;5;241m=\u001b[39m \u001b[43mpa\u001b[49m\u001b[38;5;241;43m.\u001b[39;49m\u001b[43mget_default_output_device\u001b[49m\u001b[43m(\u001b[49m\u001b[43m)\u001b[49m\n\u001b[1;32m    825\u001b[0m     \u001b[38;5;28;01mreturn\u001b[39;00m \u001b[38;5;28mself\u001b[39m\u001b[38;5;241m.\u001b[39mget_device_info_by_index(device_index)\n",
      "\u001b[0;31mOSError\u001b[0m: No Default Output Device Available"
     ]
    }
   ],
   "source": [
    "pa = pyaudio.PyAudio()\n",
    "pa.get_default_output_device_info()"
   ]
  },
  {
   "cell_type": "code",
   "execution_count": 15,
   "id": "0eda613f-9fb5-42ba-8e27-9d8f1c1355a5",
   "metadata": {},
   "outputs": [],
   "source": [
    "url = \"https://api.openai.com/v1/audio/speech\"\n",
    "headers = {\n",
    "    \"Authorization\": f'Bearer {os.getenv(\"OPENAI_API_KEY\")}',\n",
    "}\n",
    "\n",
    "data = {\n",
    "    \"model\": \"tts-1\",\n",
    "    \"input\": \"This is a test\",\n",
    "    \"voice\": \"shimmer\",\n",
    "    \"response_format\": \"wav\",\n",
    "}"
   ]
  },
  {
   "cell_type": "code",
   "execution_count": 16,
   "id": "0aa73121-82ec-4933-90e8-7aa15cca2296",
   "metadata": {},
   "outputs": [],
   "source": [
    "response = requests.post(url, headers=headers, json=data, stream=True)"
   ]
  },
  {
   "cell_type": "code",
   "execution_count": 22,
   "id": "320786b3-df6e-4995-851a-f8f2ff2b9553",
   "metadata": {},
   "outputs": [],
   "source": [
    "def stream_to_speakers() -> None: \n",
    "     import pyaudio \n",
    "  \n",
    "     player_stream = pyaudio.PyAudio().open(format=pyaudio.paInt16, channels=1, rate=24000, output=True) \n",
    "  \n",
    "     start_time = time.time() \n",
    "  \n",
    "     with openai.audio.speech.with_streaming_response.create( \n",
    "         model=\"tts-1\", \n",
    "         voice=\"alloy\", \n",
    "         response_format=\"pcm\",  # similar to WAV, but without a header chunk at the start. \n",
    "         input=\"\"\"I see skies of blue and clouds of white \n",
    "                 The bright blessed days, the dark sacred nights \n",
    "                 And I think to myself \n",
    "                 What a wonderful world\"\"\", \n",
    "     ) as response: \n",
    "         print(f\"Time to first byte: {int((time.time() - start_time) * 1000)}ms\") \n",
    "         for chunk in response.iter_bytes(chunk_size=1024): \n",
    "             player_stream.write(chunk) \n",
    "  \n",
    "     print(f\"Done in {int((time.time() - start_time) * 1000)}ms.\") "
   ]
  },
  {
   "cell_type": "code",
   "execution_count": 24,
   "id": "0048d0d3-2f36-419b-8b66-3d55dd8f2f67",
   "metadata": {},
   "outputs": [
    {
     "ename": "OSError",
     "evalue": "[Errno -9996] Invalid output device (no default output device)",
     "output_type": "error",
     "traceback": [
      "\u001b[0;31m---------------------------------------------------------------------------\u001b[0m",
      "\u001b[0;31mOSError\u001b[0m                                   Traceback (most recent call last)",
      "Cell \u001b[0;32mIn[24], line 1\u001b[0m\n\u001b[0;32m----> 1\u001b[0m \u001b[43mstream_to_speakers\u001b[49m\u001b[43m(\u001b[49m\u001b[43m)\u001b[49m\n",
      "Cell \u001b[0;32mIn[22], line 4\u001b[0m, in \u001b[0;36mstream_to_speakers\u001b[0;34m()\u001b[0m\n\u001b[1;32m      1\u001b[0m \u001b[38;5;28;01mdef\u001b[39;00m \u001b[38;5;21mstream_to_speakers\u001b[39m() \u001b[38;5;241m-\u001b[39m\u001b[38;5;241m>\u001b[39m \u001b[38;5;28;01mNone\u001b[39;00m: \n\u001b[1;32m      2\u001b[0m      \u001b[38;5;28;01mimport\u001b[39;00m \u001b[38;5;21;01mpyaudio\u001b[39;00m \n\u001b[0;32m----> 4\u001b[0m      player_stream \u001b[38;5;241m=\u001b[39m \u001b[43mpyaudio\u001b[49m\u001b[38;5;241;43m.\u001b[39;49m\u001b[43mPyAudio\u001b[49m\u001b[43m(\u001b[49m\u001b[43m)\u001b[49m\u001b[38;5;241;43m.\u001b[39;49m\u001b[43mopen\u001b[49m\u001b[43m(\u001b[49m\u001b[38;5;28;43mformat\u001b[39;49m\u001b[38;5;241;43m=\u001b[39;49m\u001b[43mpyaudio\u001b[49m\u001b[38;5;241;43m.\u001b[39;49m\u001b[43mpaInt16\u001b[49m\u001b[43m,\u001b[49m\u001b[43m \u001b[49m\u001b[43mchannels\u001b[49m\u001b[38;5;241;43m=\u001b[39;49m\u001b[38;5;241;43m1\u001b[39;49m\u001b[43m,\u001b[49m\u001b[43m \u001b[49m\u001b[43mrate\u001b[49m\u001b[38;5;241;43m=\u001b[39;49m\u001b[38;5;241;43m24000\u001b[39;49m\u001b[43m,\u001b[49m\u001b[43m \u001b[49m\u001b[43moutput\u001b[49m\u001b[38;5;241;43m=\u001b[39;49m\u001b[38;5;28;43;01mTrue\u001b[39;49;00m\u001b[43m)\u001b[49m \n\u001b[1;32m      6\u001b[0m      start_time \u001b[38;5;241m=\u001b[39m time\u001b[38;5;241m.\u001b[39mtime() \n\u001b[1;32m      8\u001b[0m      \u001b[38;5;28;01mwith\u001b[39;00m openai\u001b[38;5;241m.\u001b[39maudio\u001b[38;5;241m.\u001b[39mspeech\u001b[38;5;241m.\u001b[39mwith_streaming_response\u001b[38;5;241m.\u001b[39mcreate( \n\u001b[1;32m      9\u001b[0m          model\u001b[38;5;241m=\u001b[39m\u001b[38;5;124m\"\u001b[39m\u001b[38;5;124mtts-1\u001b[39m\u001b[38;5;124m\"\u001b[39m, \n\u001b[1;32m     10\u001b[0m          voice\u001b[38;5;241m=\u001b[39m\u001b[38;5;124m\"\u001b[39m\u001b[38;5;124malloy\u001b[39m\u001b[38;5;124m\"\u001b[39m, \n\u001b[0;32m   (...)\u001b[0m\n\u001b[1;32m     15\u001b[0m \u001b[38;5;124m                 What a wonderful world\u001b[39m\u001b[38;5;124m\"\"\"\u001b[39m, \n\u001b[1;32m     16\u001b[0m      ) \u001b[38;5;28;01mas\u001b[39;00m response: \n",
      "File \u001b[0;32m/mnt/c/Users/Sergiu/Desktop/conversational-agent/venv/lib/python3.8/site-packages/pyaudio/__init__.py:639\u001b[0m, in \u001b[0;36mPyAudio.open\u001b[0;34m(self, *args, **kwargs)\u001b[0m\n\u001b[1;32m    631\u001b[0m \u001b[38;5;28;01mdef\u001b[39;00m \u001b[38;5;21mopen\u001b[39m(\u001b[38;5;28mself\u001b[39m, \u001b[38;5;241m*\u001b[39margs, \u001b[38;5;241m*\u001b[39m\u001b[38;5;241m*\u001b[39mkwargs):\n\u001b[1;32m    632\u001b[0m \u001b[38;5;250m    \u001b[39m\u001b[38;5;124;03m\"\"\"Opens a new stream.\u001b[39;00m\n\u001b[1;32m    633\u001b[0m \n\u001b[1;32m    634\u001b[0m \u001b[38;5;124;03m    See constructor for :py:func:`PyAudio.Stream.__init__` for parameter\u001b[39;00m\n\u001b[0;32m   (...)\u001b[0m\n\u001b[1;32m    637\u001b[0m \u001b[38;5;124;03m    :returns: A new :py:class:`PyAudio.Stream`\u001b[39;00m\n\u001b[1;32m    638\u001b[0m \u001b[38;5;124;03m    \"\"\"\u001b[39;00m\n\u001b[0;32m--> 639\u001b[0m     stream \u001b[38;5;241m=\u001b[39m \u001b[43mPyAudio\u001b[49m\u001b[38;5;241;43m.\u001b[39;49m\u001b[43mStream\u001b[49m\u001b[43m(\u001b[49m\u001b[38;5;28;43mself\u001b[39;49m\u001b[43m,\u001b[49m\u001b[43m \u001b[49m\u001b[38;5;241;43m*\u001b[39;49m\u001b[43margs\u001b[49m\u001b[43m,\u001b[49m\u001b[43m \u001b[49m\u001b[38;5;241;43m*\u001b[39;49m\u001b[38;5;241;43m*\u001b[39;49m\u001b[43mkwargs\u001b[49m\u001b[43m)\u001b[49m\n\u001b[1;32m    640\u001b[0m     \u001b[38;5;28mself\u001b[39m\u001b[38;5;241m.\u001b[39m_streams\u001b[38;5;241m.\u001b[39madd(stream)\n\u001b[1;32m    641\u001b[0m     \u001b[38;5;28;01mreturn\u001b[39;00m stream\n",
      "File \u001b[0;32m/mnt/c/Users/Sergiu/Desktop/conversational-agent/venv/lib/python3.8/site-packages/pyaudio/__init__.py:441\u001b[0m, in \u001b[0;36mPyAudio.Stream.__init__\u001b[0;34m(self, PA_manager, rate, channels, format, input, output, input_device_index, output_device_index, frames_per_buffer, start, input_host_api_specific_stream_info, output_host_api_specific_stream_info, stream_callback)\u001b[0m\n\u001b[1;32m    438\u001b[0m     arguments[\u001b[38;5;124m'\u001b[39m\u001b[38;5;124mstream_callback\u001b[39m\u001b[38;5;124m'\u001b[39m] \u001b[38;5;241m=\u001b[39m stream_callback\n\u001b[1;32m    440\u001b[0m \u001b[38;5;66;03m# calling pa.open returns a stream object\u001b[39;00m\n\u001b[0;32m--> 441\u001b[0m \u001b[38;5;28mself\u001b[39m\u001b[38;5;241m.\u001b[39m_stream \u001b[38;5;241m=\u001b[39m \u001b[43mpa\u001b[49m\u001b[38;5;241;43m.\u001b[39;49m\u001b[43mopen\u001b[49m\u001b[43m(\u001b[49m\u001b[38;5;241;43m*\u001b[39;49m\u001b[38;5;241;43m*\u001b[39;49m\u001b[43marguments\u001b[49m\u001b[43m)\u001b[49m\n\u001b[1;32m    443\u001b[0m \u001b[38;5;28mself\u001b[39m\u001b[38;5;241m.\u001b[39m_input_latency \u001b[38;5;241m=\u001b[39m \u001b[38;5;28mself\u001b[39m\u001b[38;5;241m.\u001b[39m_stream\u001b[38;5;241m.\u001b[39minputLatency\n\u001b[1;32m    444\u001b[0m \u001b[38;5;28mself\u001b[39m\u001b[38;5;241m.\u001b[39m_output_latency \u001b[38;5;241m=\u001b[39m \u001b[38;5;28mself\u001b[39m\u001b[38;5;241m.\u001b[39m_stream\u001b[38;5;241m.\u001b[39moutputLatency\n",
      "\u001b[0;31mOSError\u001b[0m: [Errno -9996] Invalid output device (no default output device)"
     ]
    }
   ],
   "source": [
    "stream_to_speakers()"
   ]
  },
  {
   "cell_type": "markdown",
   "id": "79901630",
   "metadata": {},
   "source": [
    "### TODO: Initial Dialogue\n",
    "\n",
    "- How do we create this sort of textual history/context in conversation? Maybe some sort of retrieval?\n",
    "\n",
    "\n",
    "Plan\n",
    "- play initial intro\n",
    "- let the audio play, and feed it to a well prompted LLM\n",
    "- we should construct (written) replies to the chatbot just to see how it works in a conversation\n",
    "- after, we can replace the written replies with actual voice replies\n",
    "- then, if the conversation looks somewhat natural and the calendar appointment has been mocked\n",
    "- we can transition to checking how an agent could actually retrieve that information, and how it could be stored, and whether we would need to use something like langchain to detect a task and perform an action"
   ]
  },
  {
   "cell_type": "code",
   "execution_count": null,
   "id": "7a94b627-d3e2-4e16-b3ec-f576365a515c",
   "metadata": {},
   "outputs": [],
   "source": []
  }
 ],
 "metadata": {
  "kernelspec": {
   "display_name": "Python 3 (ipykernel)",
   "language": "python",
   "name": "python3"
  },
  "language_info": {
   "codemirror_mode": {
    "name": "ipython",
    "version": 3
   },
   "file_extension": ".py",
   "mimetype": "text/x-python",
   "name": "python",
   "nbconvert_exporter": "python",
   "pygments_lexer": "ipython3",
   "version": "3.8.10"
  }
 },
 "nbformat": 4,
 "nbformat_minor": 5
}
